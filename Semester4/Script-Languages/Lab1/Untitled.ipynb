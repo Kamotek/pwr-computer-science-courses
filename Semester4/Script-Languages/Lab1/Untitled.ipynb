{
 "cells": [
  {
   "cell_type": "code",
   "execution_count": 1,
   "id": "e52a772e-3baa-4e17-bf46-0fa89c835ae9",
   "metadata": {},
   "outputs": [
    {
     "name": "stdout",
     "output_type": "stream",
     "text": [
      "Hello, World!\n"
     ]
    }
   ],
   "source": [
    "name = \"World\"\n",
    "print(f\"Hello, {name}!\")"
   ]
  },
  {
   "cell_type": "markdown",
   "id": "83a89540-5e75-46f0-b82a-46c2093a143a",
   "metadata": {},
   "source": [
    "#Moja aplikacja w języku Python\n",
    "Oto mój pierwszy notes Jupyter."
   ]
  },
  {
   "cell_type": "code",
   "execution_count": null,
   "id": "261f3020-c0cd-4d17-9205-7d6b14add1ad",
   "metadata": {},
   "outputs": [],
   "source": []
  }
 ],
 "metadata": {
  "kernelspec": {
   "display_name": "Python 3 (ipykernel)",
   "language": "python",
   "name": "python3"
  },
  "language_info": {
   "codemirror_mode": {
    "name": "ipython",
    "version": 3
   },
   "file_extension": ".py",
   "mimetype": "text/x-python",
   "name": "python",
   "nbconvert_exporter": "python",
   "pygments_lexer": "ipython3",
   "version": "3.12.2"
  }
 },
 "nbformat": 4,
 "nbformat_minor": 5
}
